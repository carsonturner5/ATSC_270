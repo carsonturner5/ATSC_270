{
 "cells": [
  {
   "cell_type": "code",
   "execution_count": 10,
   "id": "b8b9684e-5433-4d28-985a-21bb418c18db",
   "metadata": {},
   "outputs": [
    {
     "ename": "TypeError",
     "evalue": "'module' object is not callable",
     "output_type": "error",
     "traceback": [
      "\u001b[0;31m---------------------------------------------------------------------------\u001b[0m",
      "\u001b[0;31mTypeError\u001b[0m                                 Traceback (most recent call last)",
      "Cell \u001b[0;32mIn[10], line 5\u001b[0m\n\u001b[1;32m      3\u001b[0m \u001b[38;5;28;01mfor\u001b[39;00m i \u001b[38;5;129;01min\u001b[39;00m \u001b[38;5;28mrange\u001b[39m (\u001b[38;5;241m12\u001b[39m,\u001b[38;5;241m17\u001b[39m):\n\u001b[1;32m      4\u001b[0m     days \u001b[38;5;241m=\u001b[39m i   \u001b[38;5;66;03m#year, month, day, hour, station\u001b[39;00m\n\u001b[0;32m----> 5\u001b[0m     createSounding(\u001b[38;5;241m2022\u001b[39m, \u001b[38;5;241m12\u001b[39m,days,\u001b[38;5;241m12\u001b[39m,\u001b[38;5;124m\"\u001b[39m\u001b[38;5;124mKBIS\u001b[39m\u001b[38;5;124m\"\u001b[39m) \u001b[38;5;66;03m#bismark\u001b[39;00m\n\u001b[1;32m      6\u001b[0m     createSounding(\u001b[38;5;241m2022\u001b[39m,\u001b[38;5;241m12\u001b[39m,days,\u001b[38;5;241m12\u001b[39m,\u001b[38;5;124m\"\u001b[39m\u001b[38;5;124mKGGW\u001b[39m\u001b[38;5;124m\"\u001b[39m)\n",
      "File \u001b[0;32m~/ATSC_270/Final_Project/FinalProjectFunctions.py:14\u001b[0m, in \u001b[0;36mcreateSounding\u001b[0;34m(year, month, day, hour, station)\u001b[0m\n\u001b[1;32m     13\u001b[0m \u001b[38;5;28;01mdef\u001b[39;00m \u001b[38;5;21mcreateSounding\u001b[39m(year,month,day,hour,station):\n\u001b[0;32m---> 14\u001b[0m     dt \u001b[38;5;241m=\u001b[39m datetime(year\u001b[38;5;241m=\u001b[39myear,month\u001b[38;5;241m=\u001b[39mmonth,day\u001b[38;5;241m=\u001b[39mday,hour\u001b[38;5;241m=\u001b[39mhour)\n\u001b[1;32m     16\u001b[0m     \u001b[38;5;66;03m#convert datetime object to string to add into the IEM url\u001b[39;00m\n\u001b[1;32m     17\u001b[0m     t \u001b[38;5;241m=\u001b[39m dt\u001b[38;5;241m.\u001b[39mstrftime(\u001b[38;5;124m'\u001b[39m\u001b[38;5;124m%\u001b[39m\u001b[38;5;124mY\u001b[39m\u001b[38;5;124m%\u001b[39m\u001b[38;5;124mm\u001b[39m\u001b[38;5;132;01m%d\u001b[39;00m\u001b[38;5;124m%\u001b[39m\u001b[38;5;124mH\u001b[39m\u001b[38;5;124m%\u001b[39m\u001b[38;5;124mM\u001b[39m\u001b[38;5;124m'\u001b[39m)\n",
      "\u001b[0;31mTypeError\u001b[0m: 'module' object is not callable"
     ]
    }
   ],
   "source": [
    "from FinalProjectFunctions import createSounding \n",
    "\n",
    "for i in range (12,17):\n",
    "    days = i   #year, month, day, hour, station\n",
    "    createSounding(2022, 12,days,12,\"KBIS\") #bismark\n",
    "    createSounding(2022,12,days,12,\"KGGW\") #Glasgow\n",
    "  "
   ]
  },
  {
   "cell_type": "code",
   "execution_count": null,
   "id": "835313a9-851d-41bd-9a5e-48cba9f9660f",
   "metadata": {},
   "outputs": [],
   "source": []
  }
 ],
 "metadata": {
  "kernelspec": {
   "display_name": "Python 3 (ipykernel)",
   "language": "python",
   "name": "python3"
  },
  "language_info": {
   "codemirror_mode": {
    "name": "ipython",
    "version": 3
   },
   "file_extension": ".py",
   "mimetype": "text/x-python",
   "name": "python",
   "nbconvert_exporter": "python",
   "pygments_lexer": "ipython3",
   "version": "3.11.7"
  }
 },
 "nbformat": 4,
 "nbformat_minor": 5
}
