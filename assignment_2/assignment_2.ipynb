{
 "cells": [
  {
   "cell_type": "markdown",
   "id": "bd61f82f",
   "metadata": {},
   "source": [
    "# ASSIGNMENT #2 - ATMOSPHERIC SOUNDINGS #\n",
    "Due: 04 February 2023 @ 11:59p"
   ]
  },
  {
   "cell_type": "markdown",
   "id": "816b3dd4",
   "metadata": {},
   "source": [
    "Purpose:\\\n",
    "The purpose of this assignment is to become familiar with reading in text data, storing the data in arrays, applying metpy units, and outputting the data into easily read files.\n",
    "\n",
    "Overview:\\\n",
    "In this assignment you will read in atmospheric sounding data and apply units to the data and print the data to a text file and a comma-separated value (csv) text file.\n",
    "\n",
    "\n",
    "| | UPDATE TO YOUR INFORMATION | \n",
    "| :- | :- |\n",
    "| Created By | Carson Turner |\n",
    "| Creation Date | 22 January 2024 |\n",
    "| Course | ATSC 270 - Computer Concepts in Meteorology |"
   ]
  },
  {
   "cell_type": "code",
   "execution_count": 1,
   "id": "eb870142",
   "metadata": {},
   "outputs": [],
   "source": [
    "### UPDATE TO YOUR INFORMATION ###\n",
    "#information allowing anyone with the code to print the author and contact information\n",
    "__author__    = \"Carson Turner\"\n",
    "__contact__   = \"Carson.Turner@und.edu\""
   ]
  },
  {
   "cell_type": "markdown",
   "id": "7dec3f1b",
   "metadata": {},
   "source": [
    "### IMPORT REQUIRED LIBRARIES ###"
   ]
  },
  {
   "cell_type": "code",
   "execution_count": 2,
   "id": "b4b5cb45",
   "metadata": {},
   "outputs": [],
   "source": [
    "import numpy as np\n",
    "from metpy.calc import wind_components\n",
    "from metpy.units import units\n",
    "import pandas as pd"
   ]
  },
  {
   "cell_type": "markdown",
   "id": "1df8fe8f",
   "metadata": {},
   "source": [
    "### OPEN SOUNDING FILE ###"
   ]
  },
  {
   "cell_type": "code",
   "execution_count": 3,
   "id": "2a62a4f1",
   "metadata": {},
   "outputs": [],
   "source": [
    "#open file\n",
    "soundingFile = open (\"KBIS_2009011512.txt\",\"r\").readlines()\n"
   ]
  },
  {
   "cell_type": "markdown",
   "id": "133b2f64",
   "metadata": {},
   "source": [
    "### READ IN DATA INTO LISTS ###"
   ]
  },
  {
   "cell_type": "code",
   "execution_count": 49,
   "id": "65907f20",
   "metadata": {},
   "outputs": [],
   "source": [
    "#append works best here, even though appending is bad\n",
    "#station,validUTC,levelcode,pressure_mb,height_m,tmpc,dwpc,drct,speed_kts,bearing,range_sm\n",
    "# creating empty lists for each variable\n",
    "station = []\n",
    "utc = []\n",
    "levelCode = []\n",
    "press = []\n",
    "height = []\n",
    "temp = []\n",
    "dew = []\n",
    "drct = []\n",
    "speed = []\n",
    "bearing = []\n",
    "range_sm = []\n",
    "\n",
    "# loop through eachline but skip first line(header)\n",
    "\n",
    "for line in soundingFile[1:]:\n",
    "    #append to each lsit the variable\n",
    "    station.append(line.split(\",\")[0])\n",
    "    utc.append(line.split(\",\")[1])\n",
    "    levelCode.append(line.split(\",\")[2])\n",
    "    press.append(line.split(\",\")[3])\n",
    "    height.append(line.split(\",\")[4])\n",
    "    temp.append(line.split(\",\")[5])\n",
    "    dew.append(line.split(\",\")[6])\n",
    "    drct.append(line.split(\",\")[7])\n",
    "    speed.append(line.split(\",\")[8])\n",
    "    bearing.append(line.split(\",\")[9])\n",
    "    range_sm.append(line.split(\",\")[10].rstrip())\n",
    "    #add rstrip() to get rid of \"\\n\" after range\n",
    "    \n",
    "#print(\"Station: \", station, \"\\n\")\n",
    "#print(\"Valid UTC: \",utc, \"\\n\")\n",
    "#print(\"Level Code: \", levelCode, \"\\n\")\n",
    "#print(\"Pressure: \", press, \"\\n\")\n",
    "#print(\"Height meters: \", height, \"\\n\")\n",
    "#print(\"Temp: \", temp, \"\\n\")\n",
    "#print(\"Dew Point: \", dew, \"\\n\")\n",
    "#print(\"Direction: \", drct, \"\\n\")\n",
    "#print(\"Speed: \", speed, \"\\n\")\n",
    "#print(\"Bearing: \",bearing, \"\\n\")\n",
    "#print(\"Range: \", range_sm, \"\\n\")\n",
    "\n",
    "\n",
    "\n"
   ]
  },
  {
   "cell_type": "markdown",
   "id": "be194c5e",
   "metadata": {},
   "source": [
    "### SUBSET TO MANDATORY AND SIGNIFICANT LEVELS ###\n",
    "\n",
    "#### This should remove missing data ####\n",
    "\n",
    "| Level Code | Meaning |\n",
    "| --- | :- |\n",
    "| 4 | mandatory |\n",
    "| 5 | significant |\n",
    "| 6 | wind level (PPBB) |\n",
    "| 7 | tropopause level |\n",
    "| 8 | maximum wind level |\n",
    "| 9 | surface level |"
   ]
  },
  {
   "cell_type": "code",
   "execution_count": 50,
   "id": "0095a064",
   "metadata": {},
   "outputs": [
    {
     "name": "stdout",
     "output_type": "stream",
     "text": [
      "['KBIS', 'KBIS', 'KBIS', 'KBIS', 'KBIS', 'KBIS', 'KBIS', 'KBIS', 'KBIS', 'KBIS', 'KBIS', 'KBIS', 'KBIS', 'KBIS', 'KBIS', 'KBIS', 'KBIS', 'KBIS', 'KBIS', 'KBIS', 'KBIS', 'KBIS', 'KBIS', 'KBIS', 'KBIS', 'KBIS', 'KBIS', 'KBIS', 'KBIS', 'KBIS', 'KBIS', 'KBIS', 'KBIS', 'KBIS', 'KBIS', 'KBIS', 'KBIS', 'KBIS', 'KBIS', 'KBIS', 'KBIS', 'KBIS', 'KBIS', 'KBIS', 'KBIS', 'KBIS', 'KBIS', 'KBIS', 'KBIS', 'KBIS', 'KBIS']\n",
      "['4', '5', '5', '5', '4', '5', '5', '4', '5', '5', '5', '5', '4', '5', '5', '4', '5', '5', '5', '4', '4', '5', '4', '5', '5', '5', '4', '5', '5', '5', '5', '5', '5', '4', '5', '5', '5', '5', '5', '4', '5', '5', '4', '5', '5', '5', '4', '5', '4', '4', '5']\n",
      "['1000.0', '959.0', '949.0', '936.0', '925.0', '898.0', '851.0', '850.0', '763.0', '730.0', '721.0', '707.0', '700.0', '610.0', '510.0', '500.0', '463.0', '423.0', '409.0', '400.0', '300.0', '255.0', '250.0', '228.0', '214.0', '209.0', '200.0', '192.0', '183.0', '175.0', '168.0', '163.0', '156.0', '150.0', '141.0', '130.0', '111.0', '106.0', '104.0', '100.0', '91.5', '78.4', '70.0', '68.6', '57.6', '52.0', '50.0', '47.2', '30.0', '20.0', '19.9']\n",
      "['355.0', '649.0', '726.0', '826.0', '915.0', '1131.0', '1526.0', '1536.0', '2328.0', '2651.0', '2741.0', '2884.0', '2961.0', '3960.0', '5231.0', '5370.0', '5906.0', '6530.0', '6761.0', '6920.0', '8820.0', '9842.0', '9970.0', '10548.0', '10946.0', '11095.0', '11380.0', '11637.0', '11939.0', '12219.0', '12474.0', '12662.0', '12936.0', '13190.0', '13577.0', '14084.0', '15064.0', '15348.0', '15465.0', '15710.0', '16259.0', '17204.0', '17900.0', '18022.0', '19071.0', '19680.0', '19920.0', '20266.0', '23000.0', '25420.0', '25450.0']\n",
      "['M', '-25.3', '-24.1', '-22.7', '-22.9', '-22.9', '-21.3', '-21.3', '-22.5', '-24.1', '-23.1', '-22.9', '-23.3', '-25.9', '-34.3', '-34.5', '-34.5', '-38.5', '-38.7', '-39.9', '-54.7', '-58.1', '-58.3', '-58.5', '-57.7', '-56.5', '-56.7', '-57.7', '-57.5', '-59.1', '-59.7', '-59.9', '-58.7', '-58.9', '-59.5', '-59.1', '-62.5', '-61.9', '-62.7', '-61.7', '-61.5', '-66.1', '-65.9', '-65.9', '-69.3', '-69.1', '-68.1', '-66.5', '-67.9', '-69.5', '-69.5']\n",
      "51\n",
      "['M', '-28.8', '-27.6', '-28.7', '-28.9', '-28.9', '-35.3', '-35.3', '-40.5', '-41.1', '-41.1', '-41.9', '-43.3', '-43.9', '-52.3', '-52.5', '-52.5', '-53.5', '-53.7', '-54.9', '-66.7', '-69.1', '-69.3', '-69.5', '-68.7', '-68.5', '-68.7', '-69.7', '-69.5', '-70.1', '-70.7', '-70.9', '-69.7', '-69.9', '-70.5', '-70.1', '-73.5', '-72.9', '-73.7', '-72.7', '-72.5', '-76.1', '-75.9', '-75.9', '-79.3', '-79.1', '-78.1', '-76.5', '-77.9', '-79.5', '-79.5']\n",
      "['M', 'M', 'M', 'M', '285.0', 'M', 'M', '330.0', 'M', 'M', 'M', 'M', '335.0', 'M', 'M', '335.0', 'M', 'M', 'M', '340.0', '345.0', 'M', '340.0', 'M', 'M', 'M', '335.0', 'M', 'M', 'M', 'M', 'M', 'M', '340.0', 'M', 'M', 'M', 'M', 'M', '325.0', 'M', 'M', '315.0', 'M', 'M', 'M', '320.0', 'M', '315.0', '315.0', 'M']\n",
      "['M', 'M', 'M', 'M', '6', 'M', 'M', '10', 'M', 'M', 'M', 'M', '36', 'M', 'M', '73', 'M', 'M', 'M', '112', '125', 'M', '117', 'M', 'M', 'M', '99', 'M', 'M', 'M', 'M', 'M', 'M', '101', 'M', 'M', 'M', 'M', 'M', '88', 'M', 'M', '97', 'M', 'M', 'M', '108', 'M', '115', '111', 'M']\n",
      "['M', 'M', 'M', 'M', '139.0', 'M', 'M', '135.0', 'M', 'M', 'M', 'M', '150.0', 'M', 'M', '153.0', 'M', 'M', 'M', '156.0', '158.0', 'M', '159.0', 'M', 'M', 'M', '158.0', 'M', 'M', 'M', 'M', 'M', 'M', '158.0', 'M', 'M', 'M', 'M', 'M', '157.0', 'M', 'M', '155.0', 'M', 'M', 'M', '153.0', 'M', '150.0', '148.0', 'M']\n",
      "['M', 'M', 'M', 'M', '0.0', 'M', 'M', '0.0', 'M', 'M', 'M', 'M', '2.0', 'M', 'M', '9.0', 'M', 'M', 'M', '17.0', '30.0', 'M', '38.0', 'M', 'M', 'M', '46.0', 'M', 'M', 'M', 'M', 'M', 'M', '56.0', 'M', 'M', 'M', 'M', 'M', '70.0', 'M', 'M', '80.0', 'M', 'M', 'M', '92.0', 'M', '109.0', '123.0', 'M']\n"
     ]
    }
   ],
   "source": [
    "#create empty list to default to mandatory and significant levels\n",
    "stationSubset = []\n",
    "validUTCSubset = []\n",
    "levelCodeSubset = []\n",
    "pressSubset = []\n",
    "heightSubset = []\n",
    "tempSubset =[]\n",
    "dewSubset = []\n",
    "drctSubset = []\n",
    "speedSubset = []\n",
    "bearingSubset = []\n",
    "rangeSmSubset = []\n",
    "\n",
    "#looping through each level of the sounding to check for mandatory or significant level\n",
    "#looping through indices\n",
    "for i in range(len(levelCode)):\n",
    "    if levelCode[i] == \"4\" or levelCode[i] == \"5\":\n",
    "        stationSubset.append(station[i])\n",
    "        levelCodeSubset.append(levelCode[i])\n",
    "        pressSubset.append(press[i])\n",
    "        heightSubset.append(height[i])\n",
    "        tempSubset.append(temp[i])\n",
    "        dewSubset.append(dew[i])\n",
    "        drctSubset.append(drct[i])\n",
    "        speedSubset.append(speed[i])\n",
    "        bearingSubset.append(bearing[i])\n",
    "        rangeSmSubset.append(range_sm[i])\n",
    "print(stationSubset)\n",
    "print(levelCodeSubset)\n",
    "print(pressSubset)\n",
    "print(heightSubset)\n",
    "print(tempSubset)\n",
    "print(len(tempSubset))\n",
    "print(dewSubset)\n",
    "print(drctSubset)\n",
    "print(speedSubset)\n",
    "print(bearingSubset)\n",
    "print(rangeSmSubset)\n",
    "\n",
    "    \n"
   ]
  },
  {
   "cell_type": "markdown",
   "id": "0672b7d3",
   "metadata": {},
   "source": [
    "### CONVERT STRINGS ###\n",
    "Some data needs to be floating point numbers, some needs to be integers, some should stay as strings.\n",
    "\n",
    "Hint: You can leave the UTC time as a string and anything that needs NaNs will be a floating point."
   ]
  },
  {
   "cell_type": "code",
   "execution_count": 51,
   "id": "99b298a4",
   "metadata": {},
   "outputs": [],
   "source": [
    "#loop through subsets  of 4s and 5s\n",
    "# convert strings to their needed type\n",
    "# converts missing data to Nan\n",
    "for i in range(len(levelCodeSubset)):\n",
    "    levelCodeSubset[i] = int(levelCodeSubset[i])\n",
    "#pressure\n",
    "    if pressSubset[i] == 'M':\n",
    "        pressSubset[i] = float('Nan')\n",
    "    else:\n",
    "        pressSubset[i] = float(pressSubset[i])\n",
    "#height\n",
    "    if heightSubset[i] == 'M':\n",
    "        heightSubset[i] = float('Nan')\n",
    "    else:\n",
    "        heightSubset[i] = float(heightSubset[i])\n",
    "#temp\n",
    "    if tempSubset[i] == 'M':\n",
    "        tempSubset[i] = float('Nan')\n",
    "    else:\n",
    "        tempSubset[i] = float(tempSubset[i])\n",
    "#dew\n",
    "    if dewSubset[i] == 'M':\n",
    "        dewSubset[i] = float('Nan')\n",
    "    else:\n",
    "        dewSubset[i] = float(dewSubset[i])\n",
    "#drct\n",
    "    if drctSubset[i] == 'M':\n",
    "        drctSubset[i] = float('Nan')\n",
    "    else:\n",
    "        drctSubset[i] = float(drctSubset[i])\n",
    "#speed\n",
    "    if speedSubset[i] == 'M':\n",
    "        speedSubset[i] = float('Nan')\n",
    "    else:\n",
    "        speedSubset[i] = float(speedSubset[i])\n",
    "#bearing\n",
    "    if bearingSubset[i] == 'M':\n",
    "        bearingSubset[i] = float('Nan')\n",
    "    else:\n",
    "        bearingSubset[i] = float(bearingSubset[i])\n",
    "#range\n",
    "    if rangeSmSubset[i] == 'M':\n",
    "        rangeSmSubset[i] = float('Nan')\n",
    "    else:\n",
    "        rangeSmSubset[i] = float(rangeSmSubset[i])\n",
    "\n"
   ]
  },
  {
   "cell_type": "markdown",
   "id": "550558da",
   "metadata": {},
   "source": [
    "### ADD UNITS ###\n",
    "Add units using metpy.\n",
    "\n",
    "Make sure to identify which variables need units.\n",
    "\n",
    "https://unidata.github.io/MetPy/latest/tutorials/unit_tutorial.html"
   ]
  },
  {
   "cell_type": "code",
   "execution_count": 52,
   "id": "d759caa8",
   "metadata": {},
   "outputs": [
    {
     "name": "stdout",
     "output_type": "stream",
     "text": [
      "898.0 millibar\n",
      "[1000.0 959.0 949.0 936.0 925.0 898.0 851.0 850.0 763.0 730.0 721.0 707.0 700.0 610.0 510.0 500.0 463.0 423.0 409.0 400.0 300.0 255.0 250.0 228.0 214.0 209.0 200.0 192.0 183.0 175.0 168.0 163.0 156.0 150.0 141.0 130.0 111.0 106.0 104.0 100.0 91.5 78.4 70.0 68.6 57.6 52.0 50.0 47.2 30.0 20.0 19.9] millibar\n",
      "1131.0 meter\n",
      "-22.9 degree_Celsius\n",
      "-28.9 degree_Celsius\n",
      "330.0 degree\n",
      "10.0 knot\n",
      "135.0 degree\n",
      "2.0 mile\n"
     ]
    }
   ],
   "source": [
    "\n",
    "\n",
    "pressSubset = pressSubset * units(\"millibar\")\n",
    "print(pressSubset[5])\n",
    "print(pressSubset)\n",
    "heightSubset = heightSubset * units(\"meters\")\n",
    "print(heightSubset[5])\n",
    "tempSubset = tempSubset * units(\"degC\")\n",
    "print(tempSubset[5])\n",
    "dewSubset = dewSubset * units.degC\n",
    "print(dewSubset[5])\n",
    "drctSubset = drctSubset * units(\"degrees\")\n",
    "print(drctSubset[7])\n",
    "speedSubset = speedSubset * units(\"knots\")\n",
    "print(speedSubset[7])\n",
    "bearingSubset = bearingSubset * units(\"degrees\")\n",
    "print(bearingSubset[7])\n",
    "rangeSmSubset = rangeSmSubset * units(\"miles\")\n",
    "print(rangeSmSubset[12])\n",
    "#end of class monday 1/29"
   ]
  },
  {
   "cell_type": "markdown",
   "id": "2de14125",
   "metadata": {},
   "source": [
    "### CONVERT WINDS TO U,V COMPONENTS ###\n",
    "For this, we will be using the metpy.calc.wind_components() function.  This has been imported as wind_components(). \n",
    "\n",
    "https://unidata.github.io/MetPy/latest/api/generated/metpy.calc.wind_components.html\n",
    "\n",
    "Please see the website above to understand how this function works."
   ]
  },
  {
   "cell_type": "code",
   "execution_count": null,
   "id": "f439cc83",
   "metadata": {},
   "outputs": [],
   "source": []
  },
  {
   "cell_type": "markdown",
   "id": "1a8467cf",
   "metadata": {},
   "source": [
    "### CONVERT U,V WINDS TO M/S ###"
   ]
  },
  {
   "cell_type": "code",
   "execution_count": null,
   "id": "9ba4b1b9",
   "metadata": {},
   "outputs": [],
   "source": []
  },
  {
   "cell_type": "markdown",
   "id": "b93037f8",
   "metadata": {},
   "source": [
    "### PRINT DATA ###\n",
    "Print the sounding location and the time of the sounding.\n",
    "\n",
    "Then for each 4 or 5 level-code level, print the pressure (in mb), height (in meters), temperature (in degrees Celsius), dewpoint temperature (in degrees Celsius), u and v wind components (in m/s) with commas separating each value.  Make sure to include units."
   ]
  },
  {
   "cell_type": "code",
   "execution_count": null,
   "id": "5d171fd1",
   "metadata": {},
   "outputs": [],
   "source": []
  },
  {
   "cell_type": "markdown",
   "id": "4217c837",
   "metadata": {},
   "source": [
    "### SAVE TO CSV FILE ###\n",
    "Save to CSV without units.  The CSV file should be named KBIS_sounding.csv. Include the following header:\n",
    "\n",
    "{STATION} - {VALID UTC}<br>\n",
    "pressure[mb],height[m],temperature[degC],dewpoint[degC],u-wind[m/s],v-wind[m/s]\n",
    "\n",
    "Make sure that the winds are limited to 2 decimal places."
   ]
  },
  {
   "cell_type": "code",
   "execution_count": null,
   "id": "0a123e09",
   "metadata": {},
   "outputs": [],
   "source": []
  },
  {
   "cell_type": "markdown",
   "id": "cccc9432",
   "metadata": {},
   "source": [
    "### OPEN THE CSV FILE IN NUMPY ###\n",
    "\n",
    "Here, we are going to use the numpy genfromtxt() function - np.genfromtxt()\n",
    "\n",
    "https://numpy.org/doc/stable/reference/generated/numpy.genfromtxt.html\n",
    "\n",
    "use the names press,height,temp,dwpt,u,v"
   ]
  },
  {
   "cell_type": "code",
   "execution_count": null,
   "id": "0db560cc",
   "metadata": {},
   "outputs": [],
   "source": []
  },
  {
   "cell_type": "markdown",
   "id": "717119e8",
   "metadata": {},
   "source": [
    "### RUN THE CELL BELOW ###\n",
    "If the code above was correct, it should print out the pressure as an array, then temperature as an array, and finally, u-wind component as an array - all with units.\n",
    "\n",
    "Note that the units are now outside the array instead of applied to each element as they were in the list."
   ]
  },
  {
   "cell_type": "code",
   "execution_count": null,
   "id": "2d50731a",
   "metadata": {},
   "outputs": [],
   "source": []
  },
  {
   "cell_type": "markdown",
   "id": "c73a0ad7",
   "metadata": {},
   "source": [
    "### OPEN THE CSV FILE IN PANDAS ###\n",
    "Now we are going to open the CSV file into a pandas dataframe.\n",
    "\n",
    "Dataframes are somewhat like arrays but a bit more complicated.\n",
    "\n",
    "Here, we will use the pandas.read_csv() function - pd.read_csv()\n",
    "\n",
    "Use the same names as above.\n",
    "\n",
    "https://pandas.pydata.org/docs/reference/api/pandas.read_csv.html"
   ]
  },
  {
   "cell_type": "code",
   "execution_count": null,
   "id": "3299a386",
   "metadata": {},
   "outputs": [],
   "source": []
  },
  {
   "cell_type": "markdown",
   "id": "6eeb0151",
   "metadata": {},
   "source": [
    "### NOW PRINT THE DATAFRAME ###\n",
    "If done correctly, you should see the column names auto-populated."
   ]
  },
  {
   "cell_type": "code",
   "execution_count": null,
   "id": "f053bec3",
   "metadata": {},
   "outputs": [],
   "source": []
  }
 ],
 "metadata": {
  "kernelspec": {
   "display_name": "Python 3 (ipykernel)",
   "language": "python",
   "name": "python3"
  },
  "language_info": {
   "codemirror_mode": {
    "name": "ipython",
    "version": 3
   },
   "file_extension": ".py",
   "mimetype": "text/x-python",
   "name": "python",
   "nbconvert_exporter": "python",
   "pygments_lexer": "ipython3",
   "version": "3.11.7"
  }
 },
 "nbformat": 4,
 "nbformat_minor": 5
}
