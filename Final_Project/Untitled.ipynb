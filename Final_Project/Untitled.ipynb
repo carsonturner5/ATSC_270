{
 "cells": [
  {
   "cell_type": "code",
   "execution_count": 50,
   "id": "5226a9c4-16ca-49aa-b68f-4d935410e4c2",
   "metadata": {},
   "outputs": [],
   "source": [
    "from netCDF4 import Dataset\n",
    "import numpy as np\n",
    "from metpy.plots import wx_code_to_numeric\n",
    "import pandas as pd"
   ]
  },
  {
   "cell_type": "code",
   "execution_count": 51,
   "id": "f75a2f5f-02a8-40bd-a706-d407eeafa699",
   "metadata": {},
   "outputs": [],
   "source": [
    "data = Dataset (\"./20221212_0000\")"
   ]
  },
  {
   "cell_type": "code",
   "execution_count": 52,
   "id": "6bbe6fa6-fb90-44ba-a440-2e7bae4e447b",
   "metadata": {},
   "outputs": [],
   "source": [
    "stationName = data.variables[\"stationName\"][:]\n",
    "latitude = data.variables[\"latitude\"][:]\n",
    "longitude = data.variables[\"longitude\"][:]\n",
    "temp = data.variables[\"temperature\"][:]\n",
    "dew = data.variables[\"dewpoint\"][:]\n",
    "windSpeed = data.variables[\"windSpeed\"][:]\n",
    "windDir = data.variables[\"windDir\"][:]\n",
    "gust = data.variables[\"windGust\"][:]\n",
    "weather = data.variables[\"presWeather\"][:]\n",
    "vis = data.variables[\"visibility\"][:]\n",
    "slPress = data.variables[\"seaLevelPress\"][:]"
   ]
  },
  {
   "cell_type": "code",
   "execution_count": 53,
   "id": "bfe3209d-c6c0-4e6d-b12c-822707230c00",
   "metadata": {},
   "outputs": [],
   "source": [
    "stnNames = [\"\"]*len(stationName)\n",
    "#print(stnNames)\n",
    "for i in range(len (stationName)):\n",
    "    stn = stationName[i].tobytes().decode().rstrip(\"\\x00\")\n",
    "    stnNames[i] = stn\n",
    "\n",
    "\n",
    "curWx = [\"\"]*len(weather)\n",
    "for i in range(len(weather)):\n",
    "    wx = weather[i].tobytes().decode().rstrip(\"\\x00\")\n",
    "    curWx[i] = wx\n",
    "wxCodes = wx_code_to_numeric(curWx)\n",
    "\n",
    "#print(stnNames)"
   ]
  },
  {
   "cell_type": "code",
   "execution_count": 55,
   "id": "5c623acd-da6b-4328-96fc-9ad5743ee1bb",
   "metadata": {},
   "outputs": [],
   "source": [
    "dataForDf = [stnNames, latitude, longitude, windDir, windSpeed, gust, visibility, wxCodes, temp, dew,slPress\n",
    "\n",
    "colNames = [\"station_id\", 'latitude', 'longitude' , 'wind_direction', 'wind_speed', 'wind_gust', 'visibility', current_\n",
    "df = pd.DataFrame (data = dataForDf, index = stnNames, columns, dtype = None)\n",
    "\n",
    "\n"
   ]
  },
  {
   "cell_type": "code",
   "execution_count": null,
   "id": "7083967e-4442-4595-9261-a4c0e7c7d692",
   "metadata": {},
   "outputs": [],
   "source": []
  }
 ],
 "metadata": {
  "kernelspec": {
   "display_name": "Python 3 (ipykernel)",
   "language": "python",
   "name": "python3"
  },
  "language_info": {
   "codemirror_mode": {
    "name": "ipython",
    "version": 3
   },
   "file_extension": ".py",
   "mimetype": "text/x-python",
   "name": "python",
   "nbconvert_exporter": "python",
   "pygments_lexer": "ipython3",
   "version": "3.11.7"
  }
 },
 "nbformat": 4,
 "nbformat_minor": 5
}
