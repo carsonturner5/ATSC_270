{
 "cells": [
  {
   "cell_type": "markdown",
   "id": "54beb566",
   "metadata": {},
   "source": [
    "# Exam 2\n",
    "## ATSC 270 - Computer Concepts in Meteorology\n",
    "\n",
    "This notebook downloads sounding data from the Iowa Environmental Mesonet (IEM) archive and plots the sounding on a Skew-T Log-P diagram.\n",
    "\n",
    "The notebook does not work correctly.  Your exam is to go through the following code and fix any bugs.  Note, this code may include <i><b>logical errors</b></i> - or errors in the logic of the code.  The code may run, but provide incorrect output.  This includes incorrect unit conversions."
   ]
  },
  {
   "cell_type": "code",
   "execution_count": 1,
   "id": "300131a7",
   "metadata": {},
   "outputs": [],
   "source": [
    "#import required libraries\n",
    "import numpy\n",
    "import matplotlib.pyplot as plt\n",
    "import pandas as pd\n",
    "\n",
    "import metpy.calc as mpcalc\n",
    "from metpy.plots import SkewT, Hodograph\n",
    "from metpy.units import units\n",
    "\n",
    "from datetime import datetime"
   ]
  },
  {
   "cell_type": "code",
   "execution_count": 2,
   "id": "8b47cb46",
   "metadata": {},
   "outputs": [],
   "source": [
    "# date, time and station of sounding to be plotted\n",
    "year = 2011\n",
    "month = 4\n",
    "day = 27\n",
    "hour = 18\n",
    "\n",
    "station = \"KJAN\""
   ]
  },
  {
   "cell_type": "markdown",
   "id": "04141a28",
   "metadata": {},
   "source": [
    "### Get Sounding Data from the Iowa Environmental Mesonet (IEM) RAOB Archive\n",
    "<u>There will be no errors in this section</u>"
   ]
  },
  {
   "cell_type": "code",
   "execution_count": 3,
   "id": "7d8db62a",
   "metadata": {},
   "outputs": [],
   "source": [
    "#get data from Iowa Environmental Mesonet (IEM) RAOB archive\n",
    "\n",
    "#convert date and time to datetime object\n",
    "dt = datetime(year=year,month=month,day=day,hour=hour)\n",
    "\n",
    "#convert datetime object to string to add into the IEM url\n",
    "t = dt.strftime('%Y%m%d%H%M')\n",
    "\n",
    "#define the url\n",
    "url = f\"https://mesonet.agron.iastate.edu/json/raob.py?ts={t}&station={station}\"\n",
    "\n",
    "#read the json sounding data using pandas\n",
    "json = pd.read_json(url)\n",
    "\n",
    "#convert the json sounding to a pandas dataframe\n",
    "df = pd.json_normalize(json.profiles[0],'profile',['station','valid'])\n",
    "\n",
    "#convert the \"valid\" variable to a datetime object\n",
    "df['valid'] = pd.to_datetime(df['valid'])"
   ]
  },
  {
   "cell_type": "markdown",
   "id": "5f3a28c4",
   "metadata": {},
   "source": [
    "### Get Dataframe Ready for Plotting"
   ]
  },
  {
   "cell_type": "code",
   "execution_count": 10,
   "id": "bee9344a",
   "metadata": {},
   "outputs": [
    {
     "name": "stdout",
     "output_type": "stream",
     "text": [
      "1      10.0\n",
      "3      39.0\n",
      "5      40.0\n",
      "7      42.0\n",
      "8      42.0\n",
      "11     54.0\n",
      "14     54.0\n",
      "15     56.0\n",
      "16     55.0\n",
      "20     58.0\n",
      "23     58.0\n",
      "24     57.0\n",
      "25     57.0\n",
      "30     68.0\n",
      "33     73.0\n",
      "36     68.0\n",
      "40     74.0\n",
      "42     75.0\n",
      "43     80.0\n",
      "44     79.0\n",
      "46     84.0\n",
      "47     85.0\n",
      "48     90.0\n",
      "50     89.0\n",
      "53     84.0\n",
      "58     83.0\n",
      "62     63.0\n",
      "64     61.0\n",
      "66     72.0\n",
      "73     35.0\n",
      "77     17.0\n",
      "79     19.0\n",
      "81     24.0\n",
      "83     22.0\n",
      "85      4.0\n",
      "87     12.0\n",
      "89     11.0\n",
      "91     15.0\n",
      "93     25.0\n",
      "94     22.0\n",
      "95     15.0\n",
      "97     13.0\n",
      "98     15.0\n",
      "100    10.0\n",
      "105     8.0\n",
      "107     3.0\n",
      "111     1.0\n",
      "112     8.0\n",
      "113    14.0\n",
      "115     5.0\n",
      "116    11.0\n",
      "117    14.0\n",
      "119    26.0\n",
      "122    29.0\n",
      "125    31.0\n",
      "126    31.0\n",
      "Name: sknt, dtype: float64\n",
      "1      27.8\n",
      "2      27.2\n",
      "4      24.8\n",
      "6      22.0\n",
      "7      21.8\n",
      "       ... \n",
      "121   -41.1\n",
      "123   -42.7\n",
      "124   -39.7\n",
      "125   -38.9\n",
      "127   -38.7\n",
      "Name: tmpc, Length: 87, dtype: float64\n"
     ]
    }
   ],
   "source": [
    "### create a new dataframe for just temperature and dewpoint ###\n",
    "\n",
    "#first remove any rows where there is no data\n",
    "df_temp = df.dropna(subset=['tmpc','dwpc'])\n",
    "#next just keep pressure, height, temperature, and dewpoint\n",
    "df_temp = df_temp[['pres','hght','tmpc','dwpc']]\n",
    "\n",
    "### create a new dataframe for just winds ###\n",
    "\n",
    "#first remove any rows where there is no data\n",
    "df_wind = df.dropna(subset=['sknt','drct'])\n",
    "#next just keep pressure, height, temperature, and dewpoint\n",
    "df_wind = df_wind[['pres','hght','sknt','drct']]\n",
    "\n",
    "print(df_wind[\"sknt\"])\n",
    "print(df_temp[\"tmpc\"])"
   ]
  },
  {
   "cell_type": "markdown",
   "id": "7cf35e93",
   "metadata": {},
   "source": [
    "### Create Numpy Arrays for Temperature Plotting and Add Units"
   ]
  },
  {
   "cell_type": "code",
   "execution_count": null,
   "id": "98bae9d3",
   "metadata": {},
   "outputs": [],
   "source": [
    "pressure = np.array(df_temp['pres']) * units('hectopascals')\n",
    "height = np.array(df_temp['hght']) * units('meters')\n",
    "temperature = np.array(df_temp['tmpc']) * units('degF')\n",
    "dewpoint = np.array(df_temp['dwpc']) * units('degF')"
   ]
  },
  {
   "cell_type": "markdown",
   "id": "3a139028",
   "metadata": {},
   "source": [
    "### Create Numpy Arrays for Wind Plotting and Add Units"
   ]
  },
  {
   "cell_type": "code",
   "execution_count": null,
   "id": "2221e98a",
   "metadata": {},
   "outputs": [],
   "source": [
    "wind_pressure = np.array(df_temp['pres']) * units('hectopascals')\n",
    "wind_height = np.array(df_temp['hght']) * units('meters')\n",
    "wind_speed = np.array(df_temp['sknt']) * units('knots')\n",
    "wind_direction = np.array(df_temp['drct']) * units('degrees')"
   ]
  },
  {
   "cell_type": "markdown",
   "id": "069a8d5a",
   "metadata": {},
   "source": [
    "### Convert Wind Speed & Direction to U & V"
   ]
  },
  {
   "cell_type": "code",
   "execution_count": 5,
   "id": "f46101cd",
   "metadata": {},
   "outputs": [
    {
     "ename": "NameError",
     "evalue": "name 'wind_direction' is not defined",
     "output_type": "error",
     "traceback": [
      "\u001b[0;31m---------------------------------------------------------------------------\u001b[0m",
      "\u001b[0;31mNameError\u001b[0m                                 Traceback (most recent call last)",
      "Cell \u001b[0;32mIn[5], line 1\u001b[0m\n\u001b[0;32m----> 1\u001b[0m u,v \u001b[38;5;241m=\u001b[39m mpcalc\u001b[38;5;241m.\u001b[39mwind_components(wind_direction,wind_speed)\n",
      "\u001b[0;31mNameError\u001b[0m: name 'wind_direction' is not defined"
     ]
    }
   ],
   "source": [
    "u,v = mpcalc.wind_components(wind_direction,wind_speed)"
   ]
  },
  {
   "cell_type": "markdown",
   "id": "0deec937",
   "metadata": {},
   "source": [
    "### Make Figure "
   ]
  },
  {
   "cell_type": "code",
   "execution_count": 6,
   "id": "acb3f755",
   "metadata": {},
   "outputs": [
    {
     "ename": "NameError",
     "evalue": "name 'pressure' is not defined",
     "output_type": "error",
     "traceback": [
      "\u001b[0;31m---------------------------------------------------------------------------\u001b[0m",
      "\u001b[0;31mNameError\u001b[0m                                 Traceback (most recent call last)",
      "Cell \u001b[0;32mIn[6], line 6\u001b[0m\n\u001b[1;32m      3\u001b[0m skew \u001b[38;5;241m=\u001b[39m SkewT(fig, rotation\u001b[38;5;241m=\u001b[39m\u001b[38;5;241m45\u001b[39m)\n\u001b[1;32m      5\u001b[0m \u001b[38;5;66;03m#plot temperature in red and dewpoint in green\u001b[39;00m\n\u001b[0;32m----> 6\u001b[0m skew\u001b[38;5;241m.\u001b[39mplot(pressure, temperature, \u001b[38;5;124m'\u001b[39m\u001b[38;5;124mg\u001b[39m\u001b[38;5;124m'\u001b[39m,lw\u001b[38;5;241m=\u001b[39m\u001b[38;5;241m4\u001b[39m)\n\u001b[1;32m      7\u001b[0m skew\u001b[38;5;241m.\u001b[39mplot(pressure, dewpoint, \u001b[38;5;124m'\u001b[39m\u001b[38;5;124mr\u001b[39m\u001b[38;5;124m'\u001b[39m,lw\u001b[38;5;241m=\u001b[39m\u001b[38;5;241m4\u001b[39m)\n\u001b[1;32m      9\u001b[0m \u001b[38;5;66;03m#create axes labels\u001b[39;00m\n",
      "\u001b[0;31mNameError\u001b[0m: name 'pressure' is not defined"
     ]
    },
    {
     "data": {
      "image/png": "[encoded data removed]",
      "text/plain": [
       "<Figure size 1650x1200 with 1 Axes>"
      ]
     },
     "metadata": {},
     "output_type": "display_data"
    }
   ],
   "source": [
    "#create skew-t figure\n",
    "fig = plt.figure(figsize=(11, 8), dpi=150,facecolor='w')\n",
    "skew = SkewT(fig, rotation=45)\n",
    "\n",
    "#plot temperature in red and dewpoint in green\n",
    "skew.plot(pressure, temperature, 'g',lw=4)\n",
    "skew.plot(pressure, dewpoint, 'r',lw=4)\n",
    "\n",
    "#create axes labels\n",
    "plt.xlabel('TEMPERATURE (\\N{degree sign}C)',fontsize=15)\n",
    "plt.ylabel('PRESSURE (hPa)',fontsize=15)\n",
    "\n",
    "#add in typical lines\n",
    "skew.plot_dry_adiabats()\n",
    "skew.plot_moist_adiabats()\n",
    "skew.plot_mixing_lines()\n",
    "\n",
    "#plot winds \n",
    "#only plot every other wind barb so it's not too busy\n",
    "#(y_clip_radius keeps barbs from plotting outside of skew-t)\n",
    "ax.plot_barbs(pressure[:2],u[:2],v[:2],y_clip_radius=0)\n",
    "\n",
    "#add title for date and location\n",
    "plt.title(f'{station}\\n%04i-%02i-%02i %02iZ'%(year,month,day,hour), fontsize=20)\n",
    "\n",
    "#save figure\n",
    "fig.tight_layout()\n",
    "plt.savefig(f'{station}_%04i%02i%02i_%02i.png'%(year,month,day,hour))"
   ]
  },
  {
   "cell_type": "code",
   "execution_count": null,
   "id": "f5f73d85",
   "metadata": {},
   "outputs": [],
   "source": []
  },
  {
   "cell_type": "code",
   "execution_count": null,
   "id": "28fa894c-dffb-41a1-b293-618f0793539b",
   "metadata": {},
   "outputs": [],
   "source": []
  },
  {
   "cell_type": "code",
   "execution_count": null,
   "id": "e0373a1c-8aae-4ea8-8ebb-6f0c9874b847",
   "metadata": {},
   "outputs": [],
   "source": []
  },
  {
   "cell_type": "code",
   "execution_count": null,
   "id": "943dd404-7251-40b4-83a2-b57f73d4f406",
   "metadata": {},
   "outputs": [],
   "source": []
  }
 ],
 "metadata": {
  "kernelspec": {
   "display_name": "Python 3 (ipykernel)",
   "language": "python",
   "name": "python3"
  },
  "language_info": {
   "codemirror_mode": {
    "name": "ipython",
    "version": 3
   },
   "file_extension": ".py",
   "mimetype": "text/x-python",
   "name": "python",
   "nbconvert_exporter": "python",
   "pygments_lexer": "ipython3",
   "version": "3.11.7"
  }
 },
 "nbformat": 4,
 "nbformat_minor": 5
}
